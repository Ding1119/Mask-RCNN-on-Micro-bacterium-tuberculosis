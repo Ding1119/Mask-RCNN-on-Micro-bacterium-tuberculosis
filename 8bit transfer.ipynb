{
 "cells": [
  {
   "cell_type": "code",
   "execution_count": 1,
   "metadata": {},
   "outputs": [],
   "source": [
    "from PIL import Image\n",
    "import numpy as np\n",
    "import shutil\n",
    "import os\n",
    "src_dir = r'C:\\Users\\adm\\Full_image\\labelme_json'\n",
    "dest_dir = r'C:\\Users\\adm\\Full_image\\cv2_mask'"
   ]
  },
  {
   "cell_type": "code",
   "execution_count": 2,
   "metadata": {},
   "outputs": [],
   "source": [
    "def img_16to8():\n",
    "    from PIL import Image\n",
    "    import numpy as np\n",
    "    import shutil\n",
    "    import os\n",
    "\n",
    "    src_dir = r'C:\\Users\\adm\\Full_image\\labelme_json'\n",
    "    dest_dir = r'C:\\Users\\adm\\Full_image\\cv2_mask'\n",
    "for child_dir in os.listdir(src_dir):\n",
    "    \n",
    "    new_name = child_dir.split('_')[0] + '.png'\n",
    "    old_mask = os.path.join(os.path.join(src_dir, child_dir), 'label.png')\n",
    "    img = Image.open(old_mask)\n",
    "    img = Image.fromarray(np.uint8(np.array(img)))\n",
    "    new_mask = os.path.join(dest_dir, new_name)\n",
    "    img.save(new_mask)\n",
    "    "
   ]
  }
 ],
 "metadata": {
  "kernelspec": {
   "display_name": "Python 3",
   "language": "python",
   "name": "python3"
  },
  "language_info": {
   "codemirror_mode": {
    "name": "ipython",
    "version": 3
   },
   "file_extension": ".py",
   "mimetype": "text/x-python",
   "name": "python",
   "nbconvert_exporter": "python",
   "pygments_lexer": "ipython3",
   "version": "3.6.5"
  }
 },
 "nbformat": 4,
 "nbformat_minor": 2
}
